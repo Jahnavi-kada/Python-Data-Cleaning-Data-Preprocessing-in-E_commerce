{
 "cells": [
  {
   "cell_type": "markdown",
   "id": "67ec60c4-86b3-400b-83fa-9211f0784e07",
   "metadata": {},
   "source": [
    "# ***EXPLORATORY DATA ANALYSIS ON RETAIL DATA***"
   ]
  },
  {
   "cell_type": "code",
   "execution_count": null,
   "id": "e368e48d-1a36-48cb-9f1d-50493e325459",
   "metadata": {},
   "outputs": [],
   "source": []
  },
  {
   "cell_type": "markdown",
   "id": "8d62c941-cf73-45ca-8580-09a72598bc78",
   "metadata": {},
   "source": [
    "## Importing the Libraries "
   ]
  },
  {
   "cell_type": "code",
   "execution_count": 3,
   "id": "4a955d94-8a59-40b1-bafb-1b5f71f5d77a",
   "metadata": {},
   "outputs": [],
   "source": [
    "import numpy as np\n",
    "import pandas as pd \n",
    "import matplotlib.pyplot as plt\n",
    "import seaborn as sns\n",
    "import datetime as dt"
   ]
  },
  {
   "cell_type": "code",
   "execution_count": null,
   "id": "afc7cf71-8c76-4703-bbda-e43d9ebaf82b",
   "metadata": {},
   "outputs": [],
   "source": []
  },
  {
   "cell_type": "markdown",
   "id": "8cc044a4-8c1c-4d7d-b6c7-67a399a1e0d1",
   "metadata": {},
   "source": [
    "## Importing the DataSets"
   ]
  },
  {
   "cell_type": "code",
   "execution_count": 4,
   "id": "1cba4c90-24b9-421c-93f3-c200ce9258a3",
   "metadata": {},
   "outputs": [],
   "source": [
    "cust = pd.read_csv('customers.csv')\n",
    "tran = pd.read_csv('Transactions.csv')\n",
    "prod = pd.read_csv('prod_cat_info.csv')"
   ]
  },
  {
   "cell_type": "code",
   "execution_count": null,
   "id": "a1ba5c0e-bf08-4474-a8ab-7cd98c4e05c9",
   "metadata": {},
   "outputs": [],
   "source": []
  },
  {
   "cell_type": "markdown",
   "id": "233f943e-8a5d-4e08-bd41-ab334954bf8f",
   "metadata": {},
   "source": [
    "## View Information"
   ]
  },
  {
   "cell_type": "markdown",
   "id": "01cc464f-1298-4a8d-bb56-927ae7b2d51d",
   "metadata": {},
   "source": [
    "## Customer "
   ]
  },
  {
   "cell_type": "code",
   "execution_count": 5,
   "id": "6250f0ab-6fd9-4aff-947a-de47379a01d8",
   "metadata": {},
   "outputs": [
    {
     "data": {
      "text/plain": [
       "(5647, 4)"
      ]
     },
     "execution_count": 5,
     "metadata": {},
     "output_type": "execute_result"
    }
   ],
   "source": [
    "cust.shape"
   ]
  },
  {
   "cell_type": "code",
   "execution_count": 6,
   "id": "e56765aa-2139-4540-a44f-e1c99d3066cd",
   "metadata": {},
   "outputs": [
    {
     "data": {
      "text/html": [
       "<div>\n",
       "<style scoped>\n",
       "    .dataframe tbody tr th:only-of-type {\n",
       "        vertical-align: middle;\n",
       "    }\n",
       "\n",
       "    .dataframe tbody tr th {\n",
       "        vertical-align: top;\n",
       "    }\n",
       "\n",
       "    .dataframe thead th {\n",
       "        text-align: right;\n",
       "    }\n",
       "</style>\n",
       "<table border=\"1\" class=\"dataframe\">\n",
       "  <thead>\n",
       "    <tr style=\"text-align: right;\">\n",
       "      <th></th>\n",
       "      <th>customer_Id</th>\n",
       "      <th>DOB</th>\n",
       "      <th>Gender</th>\n",
       "      <th>city_code</th>\n",
       "    </tr>\n",
       "  </thead>\n",
       "  <tbody>\n",
       "    <tr>\n",
       "      <th>0</th>\n",
       "      <td>268408</td>\n",
       "      <td>01-02-1970</td>\n",
       "      <td>M</td>\n",
       "      <td>4.0</td>\n",
       "    </tr>\n",
       "    <tr>\n",
       "      <th>1</th>\n",
       "      <td>269696</td>\n",
       "      <td>01-07-1970</td>\n",
       "      <td>F</td>\n",
       "      <td>8.0</td>\n",
       "    </tr>\n",
       "    <tr>\n",
       "      <th>2</th>\n",
       "      <td>268159</td>\n",
       "      <td>01-08-1970</td>\n",
       "      <td>F</td>\n",
       "      <td>8.0</td>\n",
       "    </tr>\n",
       "    <tr>\n",
       "      <th>3</th>\n",
       "      <td>270181</td>\n",
       "      <td>01-10-1970</td>\n",
       "      <td>F</td>\n",
       "      <td>2.0</td>\n",
       "    </tr>\n",
       "    <tr>\n",
       "      <th>4</th>\n",
       "      <td>268073</td>\n",
       "      <td>01-11-1970</td>\n",
       "      <td>M</td>\n",
       "      <td>1.0</td>\n",
       "    </tr>\n",
       "  </tbody>\n",
       "</table>\n",
       "</div>"
      ],
      "text/plain": [
       "   customer_Id         DOB Gender  city_code\n",
       "0       268408  01-02-1970      M        4.0\n",
       "1       269696  01-07-1970      F        8.0\n",
       "2       268159  01-08-1970      F        8.0\n",
       "3       270181  01-10-1970      F        2.0\n",
       "4       268073  01-11-1970      M        1.0"
      ]
     },
     "execution_count": 6,
     "metadata": {},
     "output_type": "execute_result"
    }
   ],
   "source": [
    "cust.head()"
   ]
  },
  {
   "cell_type": "code",
   "execution_count": 7,
   "id": "880d220b-a258-4bbb-a585-e588b37a4ebf",
   "metadata": {},
   "outputs": [
    {
     "name": "stdout",
     "output_type": "stream",
     "text": [
      "<class 'pandas.core.frame.DataFrame'>\n",
      "RangeIndex: 5647 entries, 0 to 5646\n",
      "Data columns (total 4 columns):\n",
      " #   Column       Non-Null Count  Dtype  \n",
      "---  ------       --------------  -----  \n",
      " 0   customer_Id  5647 non-null   int64  \n",
      " 1   DOB          5647 non-null   object \n",
      " 2   Gender       5645 non-null   object \n",
      " 3   city_code    5645 non-null   float64\n",
      "dtypes: float64(1), int64(1), object(2)\n",
      "memory usage: 176.6+ KB\n"
     ]
    }
   ],
   "source": [
    "cust.info()"
   ]
  },
  {
   "cell_type": "code",
   "execution_count": 8,
   "id": "b2a033eb-462c-4a19-94be-55be8a42dcc6",
   "metadata": {},
   "outputs": [
    {
     "data": {
      "text/html": [
       "<div>\n",
       "<style scoped>\n",
       "    .dataframe tbody tr th:only-of-type {\n",
       "        vertical-align: middle;\n",
       "    }\n",
       "\n",
       "    .dataframe tbody tr th {\n",
       "        vertical-align: top;\n",
       "    }\n",
       "\n",
       "    .dataframe thead th {\n",
       "        text-align: right;\n",
       "    }\n",
       "</style>\n",
       "<table border=\"1\" class=\"dataframe\">\n",
       "  <thead>\n",
       "    <tr style=\"text-align: right;\">\n",
       "      <th></th>\n",
       "      <th>customer_Id</th>\n",
       "      <th>city_code</th>\n",
       "    </tr>\n",
       "  </thead>\n",
       "  <tbody>\n",
       "    <tr>\n",
       "      <th>count</th>\n",
       "      <td>5647.000000</td>\n",
       "      <td>5645.000000</td>\n",
       "    </tr>\n",
       "    <tr>\n",
       "      <th>mean</th>\n",
       "      <td>271037.281034</td>\n",
       "      <td>5.472631</td>\n",
       "    </tr>\n",
       "    <tr>\n",
       "      <th>std</th>\n",
       "      <td>2451.261711</td>\n",
       "      <td>2.859918</td>\n",
       "    </tr>\n",
       "    <tr>\n",
       "      <th>min</th>\n",
       "      <td>266783.000000</td>\n",
       "      <td>1.000000</td>\n",
       "    </tr>\n",
       "    <tr>\n",
       "      <th>25%</th>\n",
       "      <td>268912.000000</td>\n",
       "      <td>3.000000</td>\n",
       "    </tr>\n",
       "    <tr>\n",
       "      <th>50%</th>\n",
       "      <td>271028.000000</td>\n",
       "      <td>5.000000</td>\n",
       "    </tr>\n",
       "    <tr>\n",
       "      <th>75%</th>\n",
       "      <td>273180.000000</td>\n",
       "      <td>8.000000</td>\n",
       "    </tr>\n",
       "    <tr>\n",
       "      <th>max</th>\n",
       "      <td>275265.000000</td>\n",
       "      <td>10.000000</td>\n",
       "    </tr>\n",
       "  </tbody>\n",
       "</table>\n",
       "</div>"
      ],
      "text/plain": [
       "         customer_Id    city_code\n",
       "count    5647.000000  5645.000000\n",
       "mean   271037.281034     5.472631\n",
       "std      2451.261711     2.859918\n",
       "min    266783.000000     1.000000\n",
       "25%    268912.000000     3.000000\n",
       "50%    271028.000000     5.000000\n",
       "75%    273180.000000     8.000000\n",
       "max    275265.000000    10.000000"
      ]
     },
     "execution_count": 8,
     "metadata": {},
     "output_type": "execute_result"
    }
   ],
   "source": [
    "cust.describe()"
   ]
  },
  {
   "cell_type": "code",
   "execution_count": 9,
   "id": "d6d1a8ef-79bc-474b-a6b8-b02f313e39ac",
   "metadata": {},
   "outputs": [
    {
     "data": {
      "text/plain": [
       "Index(['customer_Id', 'DOB', 'Gender', 'city_code'], dtype='object')"
      ]
     },
     "execution_count": 9,
     "metadata": {},
     "output_type": "execute_result"
    }
   ],
   "source": [
    "cust.columns"
   ]
  },
  {
   "cell_type": "code",
   "execution_count": 10,
   "id": "85791254-0fa4-4285-9056-61efcc8f01da",
   "metadata": {},
   "outputs": [
    {
     "data": {
      "text/plain": [
       "customer_Id    5647\n",
       "DOB            5647\n",
       "Gender         5645\n",
       "city_code      5645\n",
       "dtype: int64"
      ]
     },
     "execution_count": 10,
     "metadata": {},
     "output_type": "execute_result"
    }
   ],
   "source": [
    "cust.count()"
   ]
  },
  {
   "cell_type": "code",
   "execution_count": 11,
   "id": "6a1eb3f2-4e68-4645-91fc-272ab9c9077e",
   "metadata": {},
   "outputs": [
    {
     "data": {
      "text/plain": [
       "customer_Id    5647\n",
       "DOB            4056\n",
       "Gender            2\n",
       "city_code        10\n",
       "dtype: int64"
      ]
     },
     "execution_count": 11,
     "metadata": {},
     "output_type": "execute_result"
    }
   ],
   "source": [
    "cust.nunique()"
   ]
  },
  {
   "cell_type": "code",
   "execution_count": null,
   "id": "54e16793-1a29-4666-84f4-e7edfa90054c",
   "metadata": {},
   "outputs": [],
   "source": []
  },
  {
   "cell_type": "markdown",
   "id": "c29e94f2-903b-43e3-ad3e-65d956d81d71",
   "metadata": {},
   "source": [
    "## Transaction"
   ]
  },
  {
   "cell_type": "code",
   "execution_count": 12,
   "id": "692d509f-8032-485b-adf0-c441e2042ba2",
   "metadata": {},
   "outputs": [
    {
     "data": {
      "text/plain": [
       "(23053, 10)"
      ]
     },
     "execution_count": 12,
     "metadata": {},
     "output_type": "execute_result"
    }
   ],
   "source": [
    "tran.shape"
   ]
  },
  {
   "cell_type": "code",
   "execution_count": 13,
   "id": "fb41462c-acf5-4b39-8e59-1b1e70d822f0",
   "metadata": {},
   "outputs": [
    {
     "data": {
      "text/html": [
       "<div>\n",
       "<style scoped>\n",
       "    .dataframe tbody tr th:only-of-type {\n",
       "        vertical-align: middle;\n",
       "    }\n",
       "\n",
       "    .dataframe tbody tr th {\n",
       "        vertical-align: top;\n",
       "    }\n",
       "\n",
       "    .dataframe thead th {\n",
       "        text-align: right;\n",
       "    }\n",
       "</style>\n",
       "<table border=\"1\" class=\"dataframe\">\n",
       "  <thead>\n",
       "    <tr style=\"text-align: right;\">\n",
       "      <th></th>\n",
       "      <th>transaction_id</th>\n",
       "      <th>cust_id</th>\n",
       "      <th>tran_date</th>\n",
       "      <th>prod_subcat_code</th>\n",
       "      <th>prod_cat_code</th>\n",
       "      <th>Qty</th>\n",
       "      <th>Rate</th>\n",
       "      <th>Tax</th>\n",
       "      <th>total_amt</th>\n",
       "      <th>Store_type</th>\n",
       "    </tr>\n",
       "  </thead>\n",
       "  <tbody>\n",
       "    <tr>\n",
       "      <th>0</th>\n",
       "      <td>80712190438</td>\n",
       "      <td>270351</td>\n",
       "      <td>28-02-2014</td>\n",
       "      <td>1</td>\n",
       "      <td>1</td>\n",
       "      <td>-5</td>\n",
       "      <td>-772</td>\n",
       "      <td>405.300</td>\n",
       "      <td>-4265.300</td>\n",
       "      <td>e-Shop</td>\n",
       "    </tr>\n",
       "    <tr>\n",
       "      <th>1</th>\n",
       "      <td>29258453508</td>\n",
       "      <td>270384</td>\n",
       "      <td>27-02-2014</td>\n",
       "      <td>5</td>\n",
       "      <td>3</td>\n",
       "      <td>-5</td>\n",
       "      <td>-1497</td>\n",
       "      <td>785.925</td>\n",
       "      <td>-8270.925</td>\n",
       "      <td>e-Shop</td>\n",
       "    </tr>\n",
       "    <tr>\n",
       "      <th>2</th>\n",
       "      <td>51750724947</td>\n",
       "      <td>273420</td>\n",
       "      <td>24-02-2014</td>\n",
       "      <td>6</td>\n",
       "      <td>5</td>\n",
       "      <td>-2</td>\n",
       "      <td>-791</td>\n",
       "      <td>166.110</td>\n",
       "      <td>-1748.110</td>\n",
       "      <td>TeleShop</td>\n",
       "    </tr>\n",
       "    <tr>\n",
       "      <th>3</th>\n",
       "      <td>93274880719</td>\n",
       "      <td>271509</td>\n",
       "      <td>24-02-2014</td>\n",
       "      <td>11</td>\n",
       "      <td>6</td>\n",
       "      <td>-3</td>\n",
       "      <td>-1363</td>\n",
       "      <td>429.345</td>\n",
       "      <td>-4518.345</td>\n",
       "      <td>e-Shop</td>\n",
       "    </tr>\n",
       "    <tr>\n",
       "      <th>4</th>\n",
       "      <td>51750724947</td>\n",
       "      <td>273420</td>\n",
       "      <td>23-02-2014</td>\n",
       "      <td>6</td>\n",
       "      <td>5</td>\n",
       "      <td>-2</td>\n",
       "      <td>-791</td>\n",
       "      <td>166.110</td>\n",
       "      <td>-1748.110</td>\n",
       "      <td>TeleShop</td>\n",
       "    </tr>\n",
       "  </tbody>\n",
       "</table>\n",
       "</div>"
      ],
      "text/plain": [
       "   transaction_id  cust_id   tran_date  prod_subcat_code  prod_cat_code  Qty  \\\n",
       "0     80712190438   270351  28-02-2014                 1              1   -5   \n",
       "1     29258453508   270384  27-02-2014                 5              3   -5   \n",
       "2     51750724947   273420  24-02-2014                 6              5   -2   \n",
       "3     93274880719   271509  24-02-2014                11              6   -3   \n",
       "4     51750724947   273420  23-02-2014                 6              5   -2   \n",
       "\n",
       "   Rate      Tax  total_amt Store_type  \n",
       "0  -772  405.300  -4265.300     e-Shop  \n",
       "1 -1497  785.925  -8270.925     e-Shop  \n",
       "2  -791  166.110  -1748.110   TeleShop  \n",
       "3 -1363  429.345  -4518.345     e-Shop  \n",
       "4  -791  166.110  -1748.110   TeleShop  "
      ]
     },
     "execution_count": 13,
     "metadata": {},
     "output_type": "execute_result"
    }
   ],
   "source": [
    "tran.head()"
   ]
  },
  {
   "cell_type": "code",
   "execution_count": 14,
   "id": "270b33ec-d9d0-4422-b5c2-06049280c719",
   "metadata": {},
   "outputs": [
    {
     "name": "stdout",
     "output_type": "stream",
     "text": [
      "<class 'pandas.core.frame.DataFrame'>\n",
      "RangeIndex: 23053 entries, 0 to 23052\n",
      "Data columns (total 10 columns):\n",
      " #   Column            Non-Null Count  Dtype  \n",
      "---  ------            --------------  -----  \n",
      " 0   transaction_id    23053 non-null  int64  \n",
      " 1   cust_id           23053 non-null  int64  \n",
      " 2   tran_date         23053 non-null  object \n",
      " 3   prod_subcat_code  23053 non-null  int64  \n",
      " 4   prod_cat_code     23053 non-null  int64  \n",
      " 5   Qty               23053 non-null  int64  \n",
      " 6   Rate              23053 non-null  int64  \n",
      " 7   Tax               23053 non-null  float64\n",
      " 8   total_amt         23053 non-null  float64\n",
      " 9   Store_type        23053 non-null  object \n",
      "dtypes: float64(2), int64(6), object(2)\n",
      "memory usage: 1.8+ MB\n"
     ]
    }
   ],
   "source": [
    "tran.info()"
   ]
  },
  {
   "cell_type": "code",
   "execution_count": 15,
   "id": "1ce527df-fb1d-4b36-9861-026e6a2befac",
   "metadata": {},
   "outputs": [
    {
     "data": {
      "text/html": [
       "<div>\n",
       "<style scoped>\n",
       "    .dataframe tbody tr th:only-of-type {\n",
       "        vertical-align: middle;\n",
       "    }\n",
       "\n",
       "    .dataframe tbody tr th {\n",
       "        vertical-align: top;\n",
       "    }\n",
       "\n",
       "    .dataframe thead th {\n",
       "        text-align: right;\n",
       "    }\n",
       "</style>\n",
       "<table border=\"1\" class=\"dataframe\">\n",
       "  <thead>\n",
       "    <tr style=\"text-align: right;\">\n",
       "      <th></th>\n",
       "      <th>transaction_id</th>\n",
       "      <th>cust_id</th>\n",
       "      <th>prod_subcat_code</th>\n",
       "      <th>prod_cat_code</th>\n",
       "      <th>Qty</th>\n",
       "      <th>Rate</th>\n",
       "      <th>Tax</th>\n",
       "      <th>total_amt</th>\n",
       "    </tr>\n",
       "  </thead>\n",
       "  <tbody>\n",
       "    <tr>\n",
       "      <th>count</th>\n",
       "      <td>2.305300e+04</td>\n",
       "      <td>23053.000000</td>\n",
       "      <td>23053.000000</td>\n",
       "      <td>23053.000000</td>\n",
       "      <td>23053.000000</td>\n",
       "      <td>23053.000000</td>\n",
       "      <td>23053.000000</td>\n",
       "      <td>23053.000000</td>\n",
       "    </tr>\n",
       "    <tr>\n",
       "      <th>mean</th>\n",
       "      <td>5.007348e+10</td>\n",
       "      <td>271021.746497</td>\n",
       "      <td>6.149091</td>\n",
       "      <td>3.763632</td>\n",
       "      <td>2.432395</td>\n",
       "      <td>636.369713</td>\n",
       "      <td>248.667192</td>\n",
       "      <td>2107.308002</td>\n",
       "    </tr>\n",
       "    <tr>\n",
       "      <th>std</th>\n",
       "      <td>2.898194e+10</td>\n",
       "      <td>2431.692059</td>\n",
       "      <td>3.726372</td>\n",
       "      <td>1.677016</td>\n",
       "      <td>2.268406</td>\n",
       "      <td>622.363498</td>\n",
       "      <td>187.177773</td>\n",
       "      <td>2507.561264</td>\n",
       "    </tr>\n",
       "    <tr>\n",
       "      <th>min</th>\n",
       "      <td>3.268991e+06</td>\n",
       "      <td>266783.000000</td>\n",
       "      <td>1.000000</td>\n",
       "      <td>1.000000</td>\n",
       "      <td>-5.000000</td>\n",
       "      <td>-1499.000000</td>\n",
       "      <td>7.350000</td>\n",
       "      <td>-8270.925000</td>\n",
       "    </tr>\n",
       "    <tr>\n",
       "      <th>25%</th>\n",
       "      <td>2.493864e+10</td>\n",
       "      <td>268935.000000</td>\n",
       "      <td>3.000000</td>\n",
       "      <td>2.000000</td>\n",
       "      <td>1.000000</td>\n",
       "      <td>312.000000</td>\n",
       "      <td>98.280000</td>\n",
       "      <td>762.450000</td>\n",
       "    </tr>\n",
       "    <tr>\n",
       "      <th>50%</th>\n",
       "      <td>5.009313e+10</td>\n",
       "      <td>270980.000000</td>\n",
       "      <td>5.000000</td>\n",
       "      <td>4.000000</td>\n",
       "      <td>3.000000</td>\n",
       "      <td>710.000000</td>\n",
       "      <td>199.080000</td>\n",
       "      <td>1754.740000</td>\n",
       "    </tr>\n",
       "    <tr>\n",
       "      <th>75%</th>\n",
       "      <td>7.533000e+10</td>\n",
       "      <td>273114.000000</td>\n",
       "      <td>10.000000</td>\n",
       "      <td>5.000000</td>\n",
       "      <td>4.000000</td>\n",
       "      <td>1109.000000</td>\n",
       "      <td>365.715000</td>\n",
       "      <td>3569.150000</td>\n",
       "    </tr>\n",
       "    <tr>\n",
       "      <th>max</th>\n",
       "      <td>9.998755e+10</td>\n",
       "      <td>275265.000000</td>\n",
       "      <td>12.000000</td>\n",
       "      <td>6.000000</td>\n",
       "      <td>5.000000</td>\n",
       "      <td>1500.000000</td>\n",
       "      <td>787.500000</td>\n",
       "      <td>8287.500000</td>\n",
       "    </tr>\n",
       "  </tbody>\n",
       "</table>\n",
       "</div>"
      ],
      "text/plain": [
       "       transaction_id        cust_id  prod_subcat_code  prod_cat_code  \\\n",
       "count    2.305300e+04   23053.000000      23053.000000   23053.000000   \n",
       "mean     5.007348e+10  271021.746497          6.149091       3.763632   \n",
       "std      2.898194e+10    2431.692059          3.726372       1.677016   \n",
       "min      3.268991e+06  266783.000000          1.000000       1.000000   \n",
       "25%      2.493864e+10  268935.000000          3.000000       2.000000   \n",
       "50%      5.009313e+10  270980.000000          5.000000       4.000000   \n",
       "75%      7.533000e+10  273114.000000         10.000000       5.000000   \n",
       "max      9.998755e+10  275265.000000         12.000000       6.000000   \n",
       "\n",
       "                Qty          Rate           Tax     total_amt  \n",
       "count  23053.000000  23053.000000  23053.000000  23053.000000  \n",
       "mean       2.432395    636.369713    248.667192   2107.308002  \n",
       "std        2.268406    622.363498    187.177773   2507.561264  \n",
       "min       -5.000000  -1499.000000      7.350000  -8270.925000  \n",
       "25%        1.000000    312.000000     98.280000    762.450000  \n",
       "50%        3.000000    710.000000    199.080000   1754.740000  \n",
       "75%        4.000000   1109.000000    365.715000   3569.150000  \n",
       "max        5.000000   1500.000000    787.500000   8287.500000  "
      ]
     },
     "execution_count": 15,
     "metadata": {},
     "output_type": "execute_result"
    }
   ],
   "source": [
    "tran.describe()"
   ]
  },
  {
   "cell_type": "code",
   "execution_count": 16,
   "id": "121349ca-c76f-469f-b86a-dff5c75350d2",
   "metadata": {},
   "outputs": [
    {
     "data": {
      "text/plain": [
       "Index(['transaction_id', 'cust_id', 'tran_date', 'prod_subcat_code',\n",
       "       'prod_cat_code', 'Qty', 'Rate', 'Tax', 'total_amt', 'Store_type'],\n",
       "      dtype='object')"
      ]
     },
     "execution_count": 16,
     "metadata": {},
     "output_type": "execute_result"
    }
   ],
   "source": [
    "tran.columns"
   ]
  },
  {
   "cell_type": "code",
   "execution_count": 17,
   "id": "627cbf17-1bd9-4a7e-b1c9-341ee89f6374",
   "metadata": {},
   "outputs": [
    {
     "data": {
      "text/plain": [
       "transaction_id      23053\n",
       "cust_id             23053\n",
       "tran_date           23053\n",
       "prod_subcat_code    23053\n",
       "prod_cat_code       23053\n",
       "Qty                 23053\n",
       "Rate                23053\n",
       "Tax                 23053\n",
       "total_amt           23053\n",
       "Store_type          23053\n",
       "dtype: int64"
      ]
     },
     "execution_count": 17,
     "metadata": {},
     "output_type": "execute_result"
    }
   ],
   "source": [
    "tran.count()"
   ]
  },
  {
   "cell_type": "code",
   "execution_count": 18,
   "id": "eed724a3-4ec4-45b7-86eb-3d20ff9b2754",
   "metadata": {},
   "outputs": [
    {
     "data": {
      "text/plain": [
       "transaction_id      20878\n",
       "cust_id              5506\n",
       "tran_date            1129\n",
       "prod_subcat_code       12\n",
       "prod_cat_code           6\n",
       "Qty                    10\n",
       "Rate                 2551\n",
       "Tax                  4194\n",
       "total_amt            5764\n",
       "Store_type              4\n",
       "dtype: int64"
      ]
     },
     "execution_count": 18,
     "metadata": {},
     "output_type": "execute_result"
    }
   ],
   "source": [
    "tran.nunique()"
   ]
  },
  {
   "cell_type": "code",
   "execution_count": null,
   "id": "ed4c9e0d-8a4a-4d66-9133-742013c7eab7",
   "metadata": {},
   "outputs": [],
   "source": []
  },
  {
   "cell_type": "markdown",
   "id": "b0b0a6aa-f4ab-497e-b442-2fda7febfded",
   "metadata": {},
   "source": [
    "## Prod_Cat_Info"
   ]
  },
  {
   "cell_type": "code",
   "execution_count": 19,
   "id": "095b15ed-9ed4-4562-b97d-94922cf57cba",
   "metadata": {},
   "outputs": [
    {
     "data": {
      "text/plain": [
       "(23, 4)"
      ]
     },
     "execution_count": 19,
     "metadata": {},
     "output_type": "execute_result"
    }
   ],
   "source": [
    "prod.shape"
   ]
  },
  {
   "cell_type": "code",
   "execution_count": 20,
   "id": "40c180b4-adf4-414c-899d-71b3211358a9",
   "metadata": {},
   "outputs": [
    {
     "data": {
      "text/html": [
       "<div>\n",
       "<style scoped>\n",
       "    .dataframe tbody tr th:only-of-type {\n",
       "        vertical-align: middle;\n",
       "    }\n",
       "\n",
       "    .dataframe tbody tr th {\n",
       "        vertical-align: top;\n",
       "    }\n",
       "\n",
       "    .dataframe thead th {\n",
       "        text-align: right;\n",
       "    }\n",
       "</style>\n",
       "<table border=\"1\" class=\"dataframe\">\n",
       "  <thead>\n",
       "    <tr style=\"text-align: right;\">\n",
       "      <th></th>\n",
       "      <th>prod_cat_code</th>\n",
       "      <th>prod_cat</th>\n",
       "      <th>prod_sub_cat_code</th>\n",
       "      <th>prod_subcat</th>\n",
       "    </tr>\n",
       "  </thead>\n",
       "  <tbody>\n",
       "    <tr>\n",
       "      <th>0</th>\n",
       "      <td>1</td>\n",
       "      <td>Clothing</td>\n",
       "      <td>4</td>\n",
       "      <td>Mens</td>\n",
       "    </tr>\n",
       "    <tr>\n",
       "      <th>1</th>\n",
       "      <td>1</td>\n",
       "      <td>Clothing</td>\n",
       "      <td>1</td>\n",
       "      <td>Women</td>\n",
       "    </tr>\n",
       "    <tr>\n",
       "      <th>2</th>\n",
       "      <td>1</td>\n",
       "      <td>Clothing</td>\n",
       "      <td>3</td>\n",
       "      <td>Kids</td>\n",
       "    </tr>\n",
       "    <tr>\n",
       "      <th>3</th>\n",
       "      <td>2</td>\n",
       "      <td>Footwear</td>\n",
       "      <td>1</td>\n",
       "      <td>Mens</td>\n",
       "    </tr>\n",
       "    <tr>\n",
       "      <th>4</th>\n",
       "      <td>2</td>\n",
       "      <td>Footwear</td>\n",
       "      <td>3</td>\n",
       "      <td>Women</td>\n",
       "    </tr>\n",
       "  </tbody>\n",
       "</table>\n",
       "</div>"
      ],
      "text/plain": [
       "   prod_cat_code  prod_cat  prod_sub_cat_code prod_subcat\n",
       "0              1  Clothing                  4        Mens\n",
       "1              1  Clothing                  1       Women\n",
       "2              1  Clothing                  3        Kids\n",
       "3              2  Footwear                  1        Mens\n",
       "4              2  Footwear                  3       Women"
      ]
     },
     "execution_count": 20,
     "metadata": {},
     "output_type": "execute_result"
    }
   ],
   "source": [
    "prod.head()"
   ]
  },
  {
   "cell_type": "code",
   "execution_count": 21,
   "id": "8f75ae66-1c3a-45e8-a79e-9067743c68b3",
   "metadata": {},
   "outputs": [
    {
     "name": "stdout",
     "output_type": "stream",
     "text": [
      "<class 'pandas.core.frame.DataFrame'>\n",
      "RangeIndex: 23 entries, 0 to 22\n",
      "Data columns (total 4 columns):\n",
      " #   Column             Non-Null Count  Dtype \n",
      "---  ------             --------------  ----- \n",
      " 0   prod_cat_code      23 non-null     int64 \n",
      " 1   prod_cat           23 non-null     object\n",
      " 2   prod_sub_cat_code  23 non-null     int64 \n",
      " 3   prod_subcat        23 non-null     object\n",
      "dtypes: int64(2), object(2)\n",
      "memory usage: 868.0+ bytes\n"
     ]
    }
   ],
   "source": [
    "prod.info()"
   ]
  },
  {
   "cell_type": "code",
   "execution_count": 22,
   "id": "027ab2c8-34b8-4f59-b28d-e9186f1e733d",
   "metadata": {},
   "outputs": [
    {
     "data": {
      "text/html": [
       "<div>\n",
       "<style scoped>\n",
       "    .dataframe tbody tr th:only-of-type {\n",
       "        vertical-align: middle;\n",
       "    }\n",
       "\n",
       "    .dataframe tbody tr th {\n",
       "        vertical-align: top;\n",
       "    }\n",
       "\n",
       "    .dataframe thead th {\n",
       "        text-align: right;\n",
       "    }\n",
       "</style>\n",
       "<table border=\"1\" class=\"dataframe\">\n",
       "  <thead>\n",
       "    <tr style=\"text-align: right;\">\n",
       "      <th></th>\n",
       "      <th>prod_cat_code</th>\n",
       "      <th>prod_sub_cat_code</th>\n",
       "    </tr>\n",
       "  </thead>\n",
       "  <tbody>\n",
       "    <tr>\n",
       "      <th>count</th>\n",
       "      <td>23.000000</td>\n",
       "      <td>23.000000</td>\n",
       "    </tr>\n",
       "    <tr>\n",
       "      <th>mean</th>\n",
       "      <td>3.739130</td>\n",
       "      <td>6.130435</td>\n",
       "    </tr>\n",
       "    <tr>\n",
       "      <th>std</th>\n",
       "      <td>1.711389</td>\n",
       "      <td>3.805550</td>\n",
       "    </tr>\n",
       "    <tr>\n",
       "      <th>min</th>\n",
       "      <td>1.000000</td>\n",
       "      <td>1.000000</td>\n",
       "    </tr>\n",
       "    <tr>\n",
       "      <th>25%</th>\n",
       "      <td>2.500000</td>\n",
       "      <td>3.000000</td>\n",
       "    </tr>\n",
       "    <tr>\n",
       "      <th>50%</th>\n",
       "      <td>4.000000</td>\n",
       "      <td>5.000000</td>\n",
       "    </tr>\n",
       "    <tr>\n",
       "      <th>75%</th>\n",
       "      <td>5.000000</td>\n",
       "      <td>10.000000</td>\n",
       "    </tr>\n",
       "    <tr>\n",
       "      <th>max</th>\n",
       "      <td>6.000000</td>\n",
       "      <td>12.000000</td>\n",
       "    </tr>\n",
       "  </tbody>\n",
       "</table>\n",
       "</div>"
      ],
      "text/plain": [
       "       prod_cat_code  prod_sub_cat_code\n",
       "count      23.000000          23.000000\n",
       "mean        3.739130           6.130435\n",
       "std         1.711389           3.805550\n",
       "min         1.000000           1.000000\n",
       "25%         2.500000           3.000000\n",
       "50%         4.000000           5.000000\n",
       "75%         5.000000          10.000000\n",
       "max         6.000000          12.000000"
      ]
     },
     "execution_count": 22,
     "metadata": {},
     "output_type": "execute_result"
    }
   ],
   "source": [
    "prod.describe()"
   ]
  },
  {
   "cell_type": "code",
   "execution_count": 23,
   "id": "81e85c9d-f1fb-4f80-99cf-1d98b4120cc7",
   "metadata": {},
   "outputs": [
    {
     "data": {
      "text/plain": [
       "Index(['prod_cat_code', 'prod_cat', 'prod_sub_cat_code', 'prod_subcat'], dtype='object')"
      ]
     },
     "execution_count": 23,
     "metadata": {},
     "output_type": "execute_result"
    }
   ],
   "source": [
    "prod.columns"
   ]
  },
  {
   "cell_type": "code",
   "execution_count": 24,
   "id": "bd1fedb4-6a21-4bd7-a64c-c33895e2d65f",
   "metadata": {},
   "outputs": [
    {
     "data": {
      "text/plain": [
       "prod_cat_code        23\n",
       "prod_cat             23\n",
       "prod_sub_cat_code    23\n",
       "prod_subcat          23\n",
       "dtype: int64"
      ]
     },
     "execution_count": 24,
     "metadata": {},
     "output_type": "execute_result"
    }
   ],
   "source": [
    "prod.count()"
   ]
  },
  {
   "cell_type": "code",
   "execution_count": 25,
   "id": "9b5462dc-2d3c-4482-a615-f8a48a1ca61c",
   "metadata": {},
   "outputs": [
    {
     "data": {
      "text/plain": [
       "prod_cat_code         6\n",
       "prod_cat              6\n",
       "prod_sub_cat_code    12\n",
       "prod_subcat          18\n",
       "dtype: int64"
      ]
     },
     "execution_count": 25,
     "metadata": {},
     "output_type": "execute_result"
    }
   ],
   "source": [
    "prod.nunique()"
   ]
  },
  {
   "cell_type": "code",
   "execution_count": null,
   "id": "f34be99e-73ba-4c0f-9602-1ff5dca97960",
   "metadata": {},
   "outputs": [],
   "source": []
  },
  {
   "cell_type": "markdown",
   "id": "1e32cb49-4c04-4828-86d5-7398b9f90cef",
   "metadata": {},
   "source": [
    "## Check Missing Values"
   ]
  },
  {
   "cell_type": "code",
   "execution_count": 26,
   "id": "05968150-4d2b-4f33-927d-99925b542071",
   "metadata": {},
   "outputs": [
    {
     "data": {
      "text/plain": [
       "customer_Id    0\n",
       "DOB            0\n",
       "Gender         2\n",
       "city_code      2\n",
       "dtype: int64"
      ]
     },
     "execution_count": 26,
     "metadata": {},
     "output_type": "execute_result"
    }
   ],
   "source": [
    "cust.isna().sum()"
   ]
  },
  {
   "cell_type": "code",
   "execution_count": 27,
   "id": "e7011915-f285-4cf9-aa5f-49ef26987703",
   "metadata": {},
   "outputs": [],
   "source": [
    "nan_val = cust[cust.isna().any(axis=1)]"
   ]
  },
  {
   "cell_type": "code",
   "execution_count": 28,
   "id": "13139636-3d54-496b-ba51-39a63bfd73ff",
   "metadata": {},
   "outputs": [
    {
     "data": {
      "text/html": [
       "<div>\n",
       "<style scoped>\n",
       "    .dataframe tbody tr th:only-of-type {\n",
       "        vertical-align: middle;\n",
       "    }\n",
       "\n",
       "    .dataframe tbody tr th {\n",
       "        vertical-align: top;\n",
       "    }\n",
       "\n",
       "    .dataframe thead th {\n",
       "        text-align: right;\n",
       "    }\n",
       "</style>\n",
       "<table border=\"1\" class=\"dataframe\">\n",
       "  <thead>\n",
       "    <tr style=\"text-align: right;\">\n",
       "      <th></th>\n",
       "      <th>customer_Id</th>\n",
       "      <th>DOB</th>\n",
       "      <th>Gender</th>\n",
       "      <th>city_code</th>\n",
       "    </tr>\n",
       "  </thead>\n",
       "  <tbody>\n",
       "    <tr>\n",
       "      <th>24</th>\n",
       "      <td>267199</td>\n",
       "      <td>14-02-1970</td>\n",
       "      <td>NaN</td>\n",
       "      <td>2.0</td>\n",
       "    </tr>\n",
       "    <tr>\n",
       "      <th>87</th>\n",
       "      <td>271626</td>\n",
       "      <td>06-02-1970</td>\n",
       "      <td>NaN</td>\n",
       "      <td>6.0</td>\n",
       "    </tr>\n",
       "    <tr>\n",
       "      <th>115</th>\n",
       "      <td>268447</td>\n",
       "      <td>14-07-1970</td>\n",
       "      <td>M</td>\n",
       "      <td>NaN</td>\n",
       "    </tr>\n",
       "    <tr>\n",
       "      <th>149</th>\n",
       "      <td>268709</td>\n",
       "      <td>09-09-1970</td>\n",
       "      <td>F</td>\n",
       "      <td>NaN</td>\n",
       "    </tr>\n",
       "  </tbody>\n",
       "</table>\n",
       "</div>"
      ],
      "text/plain": [
       "     customer_Id         DOB Gender  city_code\n",
       "24        267199  14-02-1970    NaN        2.0\n",
       "87        271626  06-02-1970    NaN        6.0\n",
       "115       268447  14-07-1970      M        NaN\n",
       "149       268709  09-09-1970      F        NaN"
      ]
     },
     "execution_count": 28,
     "metadata": {},
     "output_type": "execute_result"
    }
   ],
   "source": [
    "nan_val.head()"
   ]
  },
  {
   "cell_type": "code",
   "execution_count": 29,
   "id": "1bfdf8fa-8da4-49ee-a188-e28b4983c368",
   "metadata": {},
   "outputs": [
    {
     "data": {
      "text/plain": [
       "transaction_id      0\n",
       "cust_id             0\n",
       "tran_date           0\n",
       "prod_subcat_code    0\n",
       "prod_cat_code       0\n",
       "Qty                 0\n",
       "Rate                0\n",
       "Tax                 0\n",
       "total_amt           0\n",
       "Store_type          0\n",
       "dtype: int64"
      ]
     },
     "execution_count": 29,
     "metadata": {},
     "output_type": "execute_result"
    }
   ],
   "source": [
    "tran.isnull().sum()"
   ]
  },
  {
   "cell_type": "code",
   "execution_count": 30,
   "id": "a8e98558-5cf0-4cc9-861c-83f2fe5dd3d0",
   "metadata": {},
   "outputs": [
    {
     "data": {
      "text/plain": [
       "prod_cat_code        0\n",
       "prod_cat             0\n",
       "prod_sub_cat_code    0\n",
       "prod_subcat          0\n",
       "dtype: int64"
      ]
     },
     "execution_count": 30,
     "metadata": {},
     "output_type": "execute_result"
    }
   ],
   "source": [
    "prod.isnull().sum()"
   ]
  },
  {
   "cell_type": "code",
   "execution_count": null,
   "id": "b1dad2a9-882f-42fb-b075-de26b070f50e",
   "metadata": {},
   "outputs": [],
   "source": []
  },
  {
   "cell_type": "markdown",
   "id": "d526ace1-431e-4dc3-b3a7-367734ea8330",
   "metadata": {},
   "source": [
    "## Check Duplicates"
   ]
  },
  {
   "cell_type": "code",
   "execution_count": 31,
   "id": "df6e4496-b8b6-46ec-808d-be06e286d59c",
   "metadata": {},
   "outputs": [
    {
     "data": {
      "text/plain": [
       "0"
      ]
     },
     "execution_count": 31,
     "metadata": {},
     "output_type": "execute_result"
    }
   ],
   "source": [
    "cust.duplicated().sum()"
   ]
  },
  {
   "cell_type": "code",
   "execution_count": 32,
   "id": "bfe67160-a8c5-4457-99c3-bd3f63252a05",
   "metadata": {},
   "outputs": [
    {
     "data": {
      "text/plain": [
       "13"
      ]
     },
     "execution_count": 32,
     "metadata": {},
     "output_type": "execute_result"
    }
   ],
   "source": [
    "tran.duplicated().sum()"
   ]
  },
  {
   "cell_type": "code",
   "execution_count": 33,
   "id": "04a01678-2d45-4d7e-909a-f623039f9590",
   "metadata": {},
   "outputs": [],
   "source": [
    "dup_rec = tran[tran.duplicated()]"
   ]
  },
  {
   "cell_type": "code",
   "execution_count": 34,
   "id": "9c8959b4-7635-4e02-b27f-a624c3cf715a",
   "metadata": {},
   "outputs": [
    {
     "data": {
      "text/html": [
       "<div>\n",
       "<style scoped>\n",
       "    .dataframe tbody tr th:only-of-type {\n",
       "        vertical-align: middle;\n",
       "    }\n",
       "\n",
       "    .dataframe tbody tr th {\n",
       "        vertical-align: top;\n",
       "    }\n",
       "\n",
       "    .dataframe thead th {\n",
       "        text-align: right;\n",
       "    }\n",
       "</style>\n",
       "<table border=\"1\" class=\"dataframe\">\n",
       "  <thead>\n",
       "    <tr style=\"text-align: right;\">\n",
       "      <th></th>\n",
       "      <th>transaction_id</th>\n",
       "      <th>cust_id</th>\n",
       "      <th>tran_date</th>\n",
       "      <th>prod_subcat_code</th>\n",
       "      <th>prod_cat_code</th>\n",
       "      <th>Qty</th>\n",
       "      <th>Rate</th>\n",
       "      <th>Tax</th>\n",
       "      <th>total_amt</th>\n",
       "      <th>Store_type</th>\n",
       "    </tr>\n",
       "  </thead>\n",
       "  <tbody>\n",
       "    <tr>\n",
       "      <th>3237</th>\n",
       "      <td>63833750229</td>\n",
       "      <td>269016</td>\n",
       "      <td>19-09-2013</td>\n",
       "      <td>10</td>\n",
       "      <td>6</td>\n",
       "      <td>-3</td>\n",
       "      <td>-460</td>\n",
       "      <td>144.900</td>\n",
       "      <td>-1524.900</td>\n",
       "      <td>TeleShop</td>\n",
       "    </tr>\n",
       "    <tr>\n",
       "      <th>4513</th>\n",
       "      <td>54818572958</td>\n",
       "      <td>274656</td>\n",
       "      <td>19-07-2013</td>\n",
       "      <td>11</td>\n",
       "      <td>6</td>\n",
       "      <td>-5</td>\n",
       "      <td>-662</td>\n",
       "      <td>347.550</td>\n",
       "      <td>-3657.550</td>\n",
       "      <td>e-Shop</td>\n",
       "    </tr>\n",
       "    <tr>\n",
       "      <th>9748</th>\n",
       "      <td>93088859112</td>\n",
       "      <td>272584</td>\n",
       "      <td>11-04-2012</td>\n",
       "      <td>1</td>\n",
       "      <td>2</td>\n",
       "      <td>-1</td>\n",
       "      <td>-1168</td>\n",
       "      <td>122.640</td>\n",
       "      <td>-1290.640</td>\n",
       "      <td>e-Shop</td>\n",
       "    </tr>\n",
       "    <tr>\n",
       "      <th>10016</th>\n",
       "      <td>48727689115</td>\n",
       "      <td>270330</td>\n",
       "      <td>21-10-2012</td>\n",
       "      <td>4</td>\n",
       "      <td>3</td>\n",
       "      <td>-4</td>\n",
       "      <td>-1158</td>\n",
       "      <td>486.360</td>\n",
       "      <td>-5118.360</td>\n",
       "      <td>TeleShop</td>\n",
       "    </tr>\n",
       "    <tr>\n",
       "      <th>10785</th>\n",
       "      <td>95523406151</td>\n",
       "      <td>273937</td>\n",
       "      <td>16-09-2012</td>\n",
       "      <td>8</td>\n",
       "      <td>3</td>\n",
       "      <td>-5</td>\n",
       "      <td>-483</td>\n",
       "      <td>253.575</td>\n",
       "      <td>-2668.575</td>\n",
       "      <td>e-Shop</td>\n",
       "    </tr>\n",
       "    <tr>\n",
       "      <th>11251</th>\n",
       "      <td>42255136382</td>\n",
       "      <td>270202</td>\n",
       "      <td>25-08-2012</td>\n",
       "      <td>12</td>\n",
       "      <td>5</td>\n",
       "      <td>-4</td>\n",
       "      <td>-841</td>\n",
       "      <td>353.220</td>\n",
       "      <td>-3717.220</td>\n",
       "      <td>e-Shop</td>\n",
       "    </tr>\n",
       "    <tr>\n",
       "      <th>12967</th>\n",
       "      <td>426787191</td>\n",
       "      <td>273106</td>\n",
       "      <td>28-05-2012</td>\n",
       "      <td>1</td>\n",
       "      <td>2</td>\n",
       "      <td>-5</td>\n",
       "      <td>-109</td>\n",
       "      <td>57.225</td>\n",
       "      <td>-602.225</td>\n",
       "      <td>e-Shop</td>\n",
       "    </tr>\n",
       "    <tr>\n",
       "      <th>13713</th>\n",
       "      <td>68625357665</td>\n",
       "      <td>270229</td>\n",
       "      <td>24-04-2012</td>\n",
       "      <td>12</td>\n",
       "      <td>6</td>\n",
       "      <td>-5</td>\n",
       "      <td>-79</td>\n",
       "      <td>41.475</td>\n",
       "      <td>-436.475</td>\n",
       "      <td>Flagship store</td>\n",
       "    </tr>\n",
       "    <tr>\n",
       "      <th>13770</th>\n",
       "      <td>84298959416</td>\n",
       "      <td>268663</td>\n",
       "      <td>22-04-2012</td>\n",
       "      <td>3</td>\n",
       "      <td>5</td>\n",
       "      <td>-2</td>\n",
       "      <td>-321</td>\n",
       "      <td>67.410</td>\n",
       "      <td>-709.410</td>\n",
       "      <td>TeleShop</td>\n",
       "    </tr>\n",
       "    <tr>\n",
       "      <th>16269</th>\n",
       "      <td>4170892941</td>\n",
       "      <td>266852</td>\n",
       "      <td>21-12-2011</td>\n",
       "      <td>8</td>\n",
       "      <td>3</td>\n",
       "      <td>-1</td>\n",
       "      <td>-412</td>\n",
       "      <td>43.260</td>\n",
       "      <td>-455.260</td>\n",
       "      <td>MBR</td>\n",
       "    </tr>\n",
       "    <tr>\n",
       "      <th>16315</th>\n",
       "      <td>44125492691</td>\n",
       "      <td>274748</td>\n",
       "      <td>19-12-2011</td>\n",
       "      <td>3</td>\n",
       "      <td>2</td>\n",
       "      <td>-5</td>\n",
       "      <td>-767</td>\n",
       "      <td>402.675</td>\n",
       "      <td>-4237.675</td>\n",
       "      <td>e-Shop</td>\n",
       "    </tr>\n",
       "    <tr>\n",
       "      <th>19869</th>\n",
       "      <td>43292728137</td>\n",
       "      <td>267939</td>\n",
       "      <td>07-03-2011</td>\n",
       "      <td>4</td>\n",
       "      <td>4</td>\n",
       "      <td>-2</td>\n",
       "      <td>-739</td>\n",
       "      <td>155.190</td>\n",
       "      <td>-1633.190</td>\n",
       "      <td>e-Shop</td>\n",
       "    </tr>\n",
       "    <tr>\n",
       "      <th>19962</th>\n",
       "      <td>98271941861</td>\n",
       "      <td>267939</td>\n",
       "      <td>29-06-2011</td>\n",
       "      <td>10</td>\n",
       "      <td>5</td>\n",
       "      <td>-4</td>\n",
       "      <td>-1238</td>\n",
       "      <td>519.960</td>\n",
       "      <td>-5471.960</td>\n",
       "      <td>Flagship store</td>\n",
       "    </tr>\n",
       "  </tbody>\n",
       "</table>\n",
       "</div>"
      ],
      "text/plain": [
       "       transaction_id  cust_id   tran_date  prod_subcat_code  prod_cat_code  \\\n",
       "3237      63833750229   269016  19-09-2013                10              6   \n",
       "4513      54818572958   274656  19-07-2013                11              6   \n",
       "9748      93088859112   272584  11-04-2012                 1              2   \n",
       "10016     48727689115   270330  21-10-2012                 4              3   \n",
       "10785     95523406151   273937  16-09-2012                 8              3   \n",
       "11251     42255136382   270202  25-08-2012                12              5   \n",
       "12967       426787191   273106  28-05-2012                 1              2   \n",
       "13713     68625357665   270229  24-04-2012                12              6   \n",
       "13770     84298959416   268663  22-04-2012                 3              5   \n",
       "16269      4170892941   266852  21-12-2011                 8              3   \n",
       "16315     44125492691   274748  19-12-2011                 3              2   \n",
       "19869     43292728137   267939  07-03-2011                 4              4   \n",
       "19962     98271941861   267939  29-06-2011                10              5   \n",
       "\n",
       "       Qty  Rate      Tax  total_amt      Store_type  \n",
       "3237    -3  -460  144.900  -1524.900        TeleShop  \n",
       "4513    -5  -662  347.550  -3657.550          e-Shop  \n",
       "9748    -1 -1168  122.640  -1290.640          e-Shop  \n",
       "10016   -4 -1158  486.360  -5118.360        TeleShop  \n",
       "10785   -5  -483  253.575  -2668.575          e-Shop  \n",
       "11251   -4  -841  353.220  -3717.220          e-Shop  \n",
       "12967   -5  -109   57.225   -602.225          e-Shop  \n",
       "13713   -5   -79   41.475   -436.475  Flagship store  \n",
       "13770   -2  -321   67.410   -709.410        TeleShop  \n",
       "16269   -1  -412   43.260   -455.260             MBR  \n",
       "16315   -5  -767  402.675  -4237.675          e-Shop  \n",
       "19869   -2  -739  155.190  -1633.190          e-Shop  \n",
       "19962   -4 -1238  519.960  -5471.960  Flagship store  "
      ]
     },
     "execution_count": 34,
     "metadata": {},
     "output_type": "execute_result"
    }
   ],
   "source": [
    "dup_rec.head(25)"
   ]
  },
  {
   "cell_type": "code",
   "execution_count": 35,
   "id": "175cc3c2-8e73-48f5-9421-4a81b47aed5f",
   "metadata": {},
   "outputs": [
    {
     "data": {
      "text/plain": [
       "0"
      ]
     },
     "execution_count": 35,
     "metadata": {},
     "output_type": "execute_result"
    }
   ],
   "source": [
    "prod.duplicated().sum()"
   ]
  },
  {
   "cell_type": "code",
   "execution_count": null,
   "id": "54640bb6-25d4-4159-b875-76c88d19e731",
   "metadata": {},
   "outputs": [],
   "source": []
  },
  {
   "cell_type": "markdown",
   "id": "1670d0f5-2c4c-4425-a416-7f2378b1f271",
   "metadata": {},
   "source": [
    "## Treat Duplicates"
   ]
  },
  {
   "cell_type": "code",
   "execution_count": 36,
   "id": "d2c8cae0-5024-4b8a-81bb-3f884acbdb95",
   "metadata": {},
   "outputs": [],
   "source": [
    "tran.drop_duplicates(inplace=True)"
   ]
  },
  {
   "cell_type": "code",
   "execution_count": 37,
   "id": "0bd7ba15-8683-4f99-afa5-1415ecd09c9b",
   "metadata": {},
   "outputs": [
    {
     "data": {
      "text/plain": [
       "0"
      ]
     },
     "execution_count": 37,
     "metadata": {},
     "output_type": "execute_result"
    }
   ],
   "source": [
    "tran.duplicated().sum()"
   ]
  },
  {
   "cell_type": "code",
   "execution_count": null,
   "id": "34f9ef9d-871c-4122-8491-78996d08fa97",
   "metadata": {},
   "outputs": [],
   "source": []
  },
  {
   "cell_type": "markdown",
   "id": "573c2b2d-dffe-4fc7-800c-5fc22f73a12e",
   "metadata": {},
   "source": [
    "## Treat Missing Values"
   ]
  },
  {
   "cell_type": "code",
   "execution_count": 38,
   "id": "7878b140-94c8-4417-8b3d-21bea71434d7",
   "metadata": {},
   "outputs": [],
   "source": [
    "cust = cust.dropna(axis = 0,  how = 'any')"
   ]
  },
  {
   "cell_type": "code",
   "execution_count": 39,
   "id": "3149c62a-1cd0-4874-b95a-584f21010335",
   "metadata": {},
   "outputs": [
    {
     "data": {
      "text/plain": [
       "customer_Id    0\n",
       "DOB            0\n",
       "Gender         0\n",
       "city_code      0\n",
       "dtype: int64"
      ]
     },
     "execution_count": 39,
     "metadata": {},
     "output_type": "execute_result"
    }
   ],
   "source": [
    "cust.isna().sum()"
   ]
  },
  {
   "cell_type": "code",
   "execution_count": null,
   "id": "382c1b63-4a04-4706-8d34-8836f5f7e1ea",
   "metadata": {},
   "outputs": [],
   "source": []
  },
  {
   "cell_type": "markdown",
   "id": "29263ef6-7a8b-48dc-b11f-a7c0f3ff2f22",
   "metadata": {},
   "source": [
    "## Rename the columns and replace _ for Spaces"
   ]
  },
  {
   "cell_type": "code",
   "execution_count": 40,
   "id": "bde0dbc7-5e06-46b4-9a09-9fc73c2bdfc5",
   "metadata": {},
   "outputs": [],
   "source": [
    "cust = cust.rename( columns= {'customer_Id': 'cust_id'})"
   ]
  },
  {
   "cell_type": "code",
   "execution_count": 41,
   "id": "b2084ec3-8909-4a72-b7ba-99ece82594c2",
   "metadata": {},
   "outputs": [],
   "source": [
    "tran = tran.rename( columns= {'prod_subcat_code': 'prod_sub_cat_code'})"
   ]
  },
  {
   "cell_type": "code",
   "execution_count": null,
   "id": "25686ea3-1020-4a34-8d4c-2e248793c3eb",
   "metadata": {},
   "outputs": [],
   "source": []
  },
  {
   "cell_type": "markdown",
   "id": "500bc553-5215-41ab-bd53-232ac07753b0",
   "metadata": {},
   "source": [
    "## Convert the datatype"
   ]
  },
  {
   "cell_type": "code",
   "execution_count": 42,
   "id": "f08b29eb-b563-4113-9de9-2cb648e0010a",
   "metadata": {},
   "outputs": [],
   "source": [
    "cust['DOB'] = pd.to_datetime(cust['DOB'], format = '%d-%m-%Y')"
   ]
  },
  {
   "cell_type": "code",
   "execution_count": 43,
   "id": "7e36f6d1-f33b-464d-a261-c879935129db",
   "metadata": {},
   "outputs": [],
   "source": [
    "tran['tran_date'] = pd.to_datetime(tran['tran_date'], format = '%d-%m-%Y')"
   ]
  },
  {
   "cell_type": "code",
   "execution_count": 44,
   "id": "ac52daa4-1904-4faf-b29d-365dabef4073",
   "metadata": {},
   "outputs": [
    {
     "name": "stdout",
     "output_type": "stream",
     "text": [
      "<class 'pandas.core.frame.DataFrame'>\n",
      "Index: 5643 entries, 0 to 5646\n",
      "Data columns (total 4 columns):\n",
      " #   Column     Non-Null Count  Dtype         \n",
      "---  ------     --------------  -----         \n",
      " 0   cust_id    5643 non-null   int64         \n",
      " 1   DOB        5643 non-null   datetime64[ns]\n",
      " 2   Gender     5643 non-null   object        \n",
      " 3   city_code  5643 non-null   float64       \n",
      "dtypes: datetime64[ns](1), float64(1), int64(1), object(1)\n",
      "memory usage: 220.4+ KB\n"
     ]
    }
   ],
   "source": [
    "cust.info()"
   ]
  },
  {
   "cell_type": "code",
   "execution_count": 45,
   "id": "155ac32c-5adb-4d61-989c-3ea605dc2c49",
   "metadata": {},
   "outputs": [
    {
     "name": "stdout",
     "output_type": "stream",
     "text": [
      "<class 'pandas.core.frame.DataFrame'>\n",
      "Index: 23040 entries, 0 to 23052\n",
      "Data columns (total 10 columns):\n",
      " #   Column             Non-Null Count  Dtype         \n",
      "---  ------             --------------  -----         \n",
      " 0   transaction_id     23040 non-null  int64         \n",
      " 1   cust_id            23040 non-null  int64         \n",
      " 2   tran_date          23040 non-null  datetime64[ns]\n",
      " 3   prod_sub_cat_code  23040 non-null  int64         \n",
      " 4   prod_cat_code      23040 non-null  int64         \n",
      " 5   Qty                23040 non-null  int64         \n",
      " 6   Rate               23040 non-null  int64         \n",
      " 7   Tax                23040 non-null  float64       \n",
      " 8   total_amt          23040 non-null  float64       \n",
      " 9   Store_type         23040 non-null  object        \n",
      "dtypes: datetime64[ns](1), float64(2), int64(6), object(1)\n",
      "memory usage: 1.9+ MB\n"
     ]
    }
   ],
   "source": [
    "tran.info()"
   ]
  },
  {
   "cell_type": "code",
   "execution_count": null,
   "id": "4b32a91e-affc-46f6-8146-fe2bedfe3bfc",
   "metadata": {},
   "outputs": [],
   "source": []
  },
  {
   "cell_type": "markdown",
   "id": "5b7e3997-088a-485b-9a20-9c11447943ad",
   "metadata": {},
   "source": [
    "## Merge the tables "
   ]
  },
  {
   "cell_type": "code",
   "execution_count": 46,
   "id": "cec0de32-5140-48a0-9f93-02bfdc7c587d",
   "metadata": {},
   "outputs": [],
   "source": [
    "cust_tran = pd.merge(cust, tran, how = 'inner', left_on = 'cust_id', right_on = 'cust_id')"
   ]
  },
  {
   "cell_type": "code",
   "execution_count": 47,
   "id": "1b84d9da-0cc4-4700-8cac-9c4421b6fcab",
   "metadata": {},
   "outputs": [
    {
     "data": {
      "text/plain": [
       "(23023, 13)"
      ]
     },
     "execution_count": 47,
     "metadata": {},
     "output_type": "execute_result"
    }
   ],
   "source": [
    "cust_tran.shape"
   ]
  },
  {
   "cell_type": "code",
   "execution_count": 48,
   "id": "7517221b-3459-4c64-8c75-e5bacaf7bba9",
   "metadata": {},
   "outputs": [
    {
     "data": {
      "text/html": [
       "<div>\n",
       "<style scoped>\n",
       "    .dataframe tbody tr th:only-of-type {\n",
       "        vertical-align: middle;\n",
       "    }\n",
       "\n",
       "    .dataframe tbody tr th {\n",
       "        vertical-align: top;\n",
       "    }\n",
       "\n",
       "    .dataframe thead th {\n",
       "        text-align: right;\n",
       "    }\n",
       "</style>\n",
       "<table border=\"1\" class=\"dataframe\">\n",
       "  <thead>\n",
       "    <tr style=\"text-align: right;\">\n",
       "      <th></th>\n",
       "      <th>cust_id</th>\n",
       "      <th>DOB</th>\n",
       "      <th>Gender</th>\n",
       "      <th>city_code</th>\n",
       "      <th>transaction_id</th>\n",
       "      <th>tran_date</th>\n",
       "      <th>prod_sub_cat_code</th>\n",
       "      <th>prod_cat_code</th>\n",
       "      <th>Qty</th>\n",
       "      <th>Rate</th>\n",
       "      <th>Tax</th>\n",
       "      <th>total_amt</th>\n",
       "      <th>Store_type</th>\n",
       "    </tr>\n",
       "  </thead>\n",
       "  <tbody>\n",
       "    <tr>\n",
       "      <th>0</th>\n",
       "      <td>268408</td>\n",
       "      <td>1970-02-01</td>\n",
       "      <td>M</td>\n",
       "      <td>4.0</td>\n",
       "      <td>87243835584</td>\n",
       "      <td>2014-01-13</td>\n",
       "      <td>7</td>\n",
       "      <td>5</td>\n",
       "      <td>5</td>\n",
       "      <td>187</td>\n",
       "      <td>98.175</td>\n",
       "      <td>1033.175</td>\n",
       "      <td>TeleShop</td>\n",
       "    </tr>\n",
       "    <tr>\n",
       "      <th>1</th>\n",
       "      <td>268408</td>\n",
       "      <td>1970-02-01</td>\n",
       "      <td>M</td>\n",
       "      <td>4.0</td>\n",
       "      <td>16197868036</td>\n",
       "      <td>2013-12-16</td>\n",
       "      <td>1</td>\n",
       "      <td>4</td>\n",
       "      <td>-5</td>\n",
       "      <td>-210</td>\n",
       "      <td>110.250</td>\n",
       "      <td>-1160.250</td>\n",
       "      <td>Flagship store</td>\n",
       "    </tr>\n",
       "    <tr>\n",
       "      <th>2</th>\n",
       "      <td>268408</td>\n",
       "      <td>1970-02-01</td>\n",
       "      <td>M</td>\n",
       "      <td>4.0</td>\n",
       "      <td>16197868036</td>\n",
       "      <td>2013-12-12</td>\n",
       "      <td>1</td>\n",
       "      <td>4</td>\n",
       "      <td>5</td>\n",
       "      <td>210</td>\n",
       "      <td>110.250</td>\n",
       "      <td>1160.250</td>\n",
       "      <td>Flagship store</td>\n",
       "    </tr>\n",
       "    <tr>\n",
       "      <th>3</th>\n",
       "      <td>268408</td>\n",
       "      <td>1970-02-01</td>\n",
       "      <td>M</td>\n",
       "      <td>4.0</td>\n",
       "      <td>28810141075</td>\n",
       "      <td>2013-02-09</td>\n",
       "      <td>10</td>\n",
       "      <td>6</td>\n",
       "      <td>2</td>\n",
       "      <td>813</td>\n",
       "      <td>170.730</td>\n",
       "      <td>1796.730</td>\n",
       "      <td>TeleShop</td>\n",
       "    </tr>\n",
       "    <tr>\n",
       "      <th>4</th>\n",
       "      <td>268408</td>\n",
       "      <td>1970-02-01</td>\n",
       "      <td>M</td>\n",
       "      <td>4.0</td>\n",
       "      <td>64633435931</td>\n",
       "      <td>2013-06-05</td>\n",
       "      <td>4</td>\n",
       "      <td>2</td>\n",
       "      <td>3</td>\n",
       "      <td>312</td>\n",
       "      <td>98.280</td>\n",
       "      <td>1034.280</td>\n",
       "      <td>Flagship store</td>\n",
       "    </tr>\n",
       "  </tbody>\n",
       "</table>\n",
       "</div>"
      ],
      "text/plain": [
       "   cust_id        DOB Gender  city_code  transaction_id  tran_date  \\\n",
       "0   268408 1970-02-01      M        4.0     87243835584 2014-01-13   \n",
       "1   268408 1970-02-01      M        4.0     16197868036 2013-12-16   \n",
       "2   268408 1970-02-01      M        4.0     16197868036 2013-12-12   \n",
       "3   268408 1970-02-01      M        4.0     28810141075 2013-02-09   \n",
       "4   268408 1970-02-01      M        4.0     64633435931 2013-06-05   \n",
       "\n",
       "   prod_sub_cat_code  prod_cat_code  Qty  Rate      Tax  total_amt  \\\n",
       "0                  7              5    5   187   98.175   1033.175   \n",
       "1                  1              4   -5  -210  110.250  -1160.250   \n",
       "2                  1              4    5   210  110.250   1160.250   \n",
       "3                 10              6    2   813  170.730   1796.730   \n",
       "4                  4              2    3   312   98.280   1034.280   \n",
       "\n",
       "       Store_type  \n",
       "0        TeleShop  \n",
       "1  Flagship store  \n",
       "2  Flagship store  \n",
       "3        TeleShop  \n",
       "4  Flagship store  "
      ]
     },
     "execution_count": 48,
     "metadata": {},
     "output_type": "execute_result"
    }
   ],
   "source": [
    "cust_tran.head()"
   ]
  },
  {
   "cell_type": "code",
   "execution_count": 49,
   "id": "f7692194-5f94-4fe8-b188-fa0751e01440",
   "metadata": {},
   "outputs": [
    {
     "name": "stdout",
     "output_type": "stream",
     "text": [
      "<class 'pandas.core.frame.DataFrame'>\n",
      "RangeIndex: 23023 entries, 0 to 23022\n",
      "Data columns (total 13 columns):\n",
      " #   Column             Non-Null Count  Dtype         \n",
      "---  ------             --------------  -----         \n",
      " 0   cust_id            23023 non-null  int64         \n",
      " 1   DOB                23023 non-null  datetime64[ns]\n",
      " 2   Gender             23023 non-null  object        \n",
      " 3   city_code          23023 non-null  float64       \n",
      " 4   transaction_id     23023 non-null  int64         \n",
      " 5   tran_date          23023 non-null  datetime64[ns]\n",
      " 6   prod_sub_cat_code  23023 non-null  int64         \n",
      " 7   prod_cat_code      23023 non-null  int64         \n",
      " 8   Qty                23023 non-null  int64         \n",
      " 9   Rate               23023 non-null  int64         \n",
      " 10  Tax                23023 non-null  float64       \n",
      " 11  total_amt          23023 non-null  float64       \n",
      " 12  Store_type         23023 non-null  object        \n",
      "dtypes: datetime64[ns](2), float64(3), int64(6), object(2)\n",
      "memory usage: 2.3+ MB\n"
     ]
    }
   ],
   "source": [
    "cust_tran.info()"
   ]
  },
  {
   "cell_type": "code",
   "execution_count": null,
   "id": "e52bbea2-e2f6-4cc5-8b82-ead013dcd976",
   "metadata": {},
   "outputs": [],
   "source": []
  },
  {
   "cell_type": "code",
   "execution_count": 50,
   "id": "34c5c29f-bf8c-4467-9729-6e646fd6b81a",
   "metadata": {},
   "outputs": [],
   "source": [
    "retail = pd.merge(cust_tran, prod, how = 'inner', left_on = ['prod_sub_cat_code', 'prod_cat_code'], right_on = ['prod_sub_cat_code', 'prod_cat_code'])"
   ]
  },
  {
   "cell_type": "code",
   "execution_count": 51,
   "id": "1ea2470b-7eae-4bdc-95d6-30e1abfae0a5",
   "metadata": {},
   "outputs": [
    {
     "data": {
      "text/plain": [
       "(23023, 15)"
      ]
     },
     "execution_count": 51,
     "metadata": {},
     "output_type": "execute_result"
    }
   ],
   "source": [
    "retail.shape"
   ]
  },
  {
   "cell_type": "code",
   "execution_count": 52,
   "id": "00dc5470-7891-4611-8b82-e871c148e7f3",
   "metadata": {},
   "outputs": [
    {
     "data": {
      "text/html": [
       "<div>\n",
       "<style scoped>\n",
       "    .dataframe tbody tr th:only-of-type {\n",
       "        vertical-align: middle;\n",
       "    }\n",
       "\n",
       "    .dataframe tbody tr th {\n",
       "        vertical-align: top;\n",
       "    }\n",
       "\n",
       "    .dataframe thead th {\n",
       "        text-align: right;\n",
       "    }\n",
       "</style>\n",
       "<table border=\"1\" class=\"dataframe\">\n",
       "  <thead>\n",
       "    <tr style=\"text-align: right;\">\n",
       "      <th></th>\n",
       "      <th>cust_id</th>\n",
       "      <th>DOB</th>\n",
       "      <th>Gender</th>\n",
       "      <th>city_code</th>\n",
       "      <th>transaction_id</th>\n",
       "      <th>tran_date</th>\n",
       "      <th>prod_sub_cat_code</th>\n",
       "      <th>prod_cat_code</th>\n",
       "      <th>Qty</th>\n",
       "      <th>Rate</th>\n",
       "      <th>Tax</th>\n",
       "      <th>total_amt</th>\n",
       "      <th>Store_type</th>\n",
       "      <th>prod_cat</th>\n",
       "      <th>prod_subcat</th>\n",
       "    </tr>\n",
       "  </thead>\n",
       "  <tbody>\n",
       "    <tr>\n",
       "      <th>0</th>\n",
       "      <td>268408</td>\n",
       "      <td>1970-02-01</td>\n",
       "      <td>M</td>\n",
       "      <td>4.0</td>\n",
       "      <td>87243835584</td>\n",
       "      <td>2014-01-13</td>\n",
       "      <td>7</td>\n",
       "      <td>5</td>\n",
       "      <td>5</td>\n",
       "      <td>187</td>\n",
       "      <td>98.175</td>\n",
       "      <td>1033.175</td>\n",
       "      <td>TeleShop</td>\n",
       "      <td>Books</td>\n",
       "      <td>Fiction</td>\n",
       "    </tr>\n",
       "    <tr>\n",
       "      <th>1</th>\n",
       "      <td>275152</td>\n",
       "      <td>1970-01-16</td>\n",
       "      <td>M</td>\n",
       "      <td>4.0</td>\n",
       "      <td>73109425404</td>\n",
       "      <td>2011-03-25</td>\n",
       "      <td>7</td>\n",
       "      <td>5</td>\n",
       "      <td>2</td>\n",
       "      <td>464</td>\n",
       "      <td>97.440</td>\n",
       "      <td>1025.440</td>\n",
       "      <td>e-Shop</td>\n",
       "      <td>Books</td>\n",
       "      <td>Fiction</td>\n",
       "    </tr>\n",
       "    <tr>\n",
       "      <th>2</th>\n",
       "      <td>275034</td>\n",
       "      <td>1970-01-18</td>\n",
       "      <td>F</td>\n",
       "      <td>4.0</td>\n",
       "      <td>64777271023</td>\n",
       "      <td>2011-05-23</td>\n",
       "      <td>7</td>\n",
       "      <td>5</td>\n",
       "      <td>2</td>\n",
       "      <td>197</td>\n",
       "      <td>41.370</td>\n",
       "      <td>435.370</td>\n",
       "      <td>Flagship store</td>\n",
       "      <td>Books</td>\n",
       "      <td>Fiction</td>\n",
       "    </tr>\n",
       "    <tr>\n",
       "      <th>3</th>\n",
       "      <td>270829</td>\n",
       "      <td>1970-01-22</td>\n",
       "      <td>F</td>\n",
       "      <td>8.0</td>\n",
       "      <td>87174343938</td>\n",
       "      <td>2013-09-12</td>\n",
       "      <td>7</td>\n",
       "      <td>5</td>\n",
       "      <td>4</td>\n",
       "      <td>1141</td>\n",
       "      <td>479.220</td>\n",
       "      <td>5043.220</td>\n",
       "      <td>e-Shop</td>\n",
       "      <td>Books</td>\n",
       "      <td>Fiction</td>\n",
       "    </tr>\n",
       "    <tr>\n",
       "      <th>4</th>\n",
       "      <td>267657</td>\n",
       "      <td>1970-01-29</td>\n",
       "      <td>F</td>\n",
       "      <td>7.0</td>\n",
       "      <td>76242744953</td>\n",
       "      <td>2013-05-23</td>\n",
       "      <td>7</td>\n",
       "      <td>5</td>\n",
       "      <td>4</td>\n",
       "      <td>1020</td>\n",
       "      <td>428.400</td>\n",
       "      <td>4508.400</td>\n",
       "      <td>e-Shop</td>\n",
       "      <td>Books</td>\n",
       "      <td>Fiction</td>\n",
       "    </tr>\n",
       "  </tbody>\n",
       "</table>\n",
       "</div>"
      ],
      "text/plain": [
       "   cust_id        DOB Gender  city_code  transaction_id  tran_date  \\\n",
       "0   268408 1970-02-01      M        4.0     87243835584 2014-01-13   \n",
       "1   275152 1970-01-16      M        4.0     73109425404 2011-03-25   \n",
       "2   275034 1970-01-18      F        4.0     64777271023 2011-05-23   \n",
       "3   270829 1970-01-22      F        8.0     87174343938 2013-09-12   \n",
       "4   267657 1970-01-29      F        7.0     76242744953 2013-05-23   \n",
       "\n",
       "   prod_sub_cat_code  prod_cat_code  Qty  Rate      Tax  total_amt  \\\n",
       "0                  7              5    5   187   98.175   1033.175   \n",
       "1                  7              5    2   464   97.440   1025.440   \n",
       "2                  7              5    2   197   41.370    435.370   \n",
       "3                  7              5    4  1141  479.220   5043.220   \n",
       "4                  7              5    4  1020  428.400   4508.400   \n",
       "\n",
       "       Store_type prod_cat prod_subcat  \n",
       "0        TeleShop    Books     Fiction  \n",
       "1          e-Shop    Books     Fiction  \n",
       "2  Flagship store    Books     Fiction  \n",
       "3          e-Shop    Books     Fiction  \n",
       "4          e-Shop    Books     Fiction  "
      ]
     },
     "execution_count": 52,
     "metadata": {},
     "output_type": "execute_result"
    }
   ],
   "source": [
    "retail.head()"
   ]
  },
  {
   "cell_type": "code",
   "execution_count": 53,
   "id": "cc836c21-dde7-4df2-a995-cc7f34cc0a68",
   "metadata": {},
   "outputs": [
    {
     "name": "stdout",
     "output_type": "stream",
     "text": [
      "<class 'pandas.core.frame.DataFrame'>\n",
      "RangeIndex: 23023 entries, 0 to 23022\n",
      "Data columns (total 15 columns):\n",
      " #   Column             Non-Null Count  Dtype         \n",
      "---  ------             --------------  -----         \n",
      " 0   cust_id            23023 non-null  int64         \n",
      " 1   DOB                23023 non-null  datetime64[ns]\n",
      " 2   Gender             23023 non-null  object        \n",
      " 3   city_code          23023 non-null  float64       \n",
      " 4   transaction_id     23023 non-null  int64         \n",
      " 5   tran_date          23023 non-null  datetime64[ns]\n",
      " 6   prod_sub_cat_code  23023 non-null  int64         \n",
      " 7   prod_cat_code      23023 non-null  int64         \n",
      " 8   Qty                23023 non-null  int64         \n",
      " 9   Rate               23023 non-null  int64         \n",
      " 10  Tax                23023 non-null  float64       \n",
      " 11  total_amt          23023 non-null  float64       \n",
      " 12  Store_type         23023 non-null  object        \n",
      " 13  prod_cat           23023 non-null  object        \n",
      " 14  prod_subcat        23023 non-null  object        \n",
      "dtypes: datetime64[ns](2), float64(3), int64(6), object(4)\n",
      "memory usage: 2.6+ MB\n"
     ]
    }
   ],
   "source": [
    "retail.info()"
   ]
  },
  {
   "cell_type": "code",
   "execution_count": null,
   "id": "8dc8ce7c-223d-412d-aa3a-35aaa35635a6",
   "metadata": {},
   "outputs": [],
   "source": []
  },
  {
   "cell_type": "code",
   "execution_count": null,
   "id": "a63afa89-1457-4118-9319-38e707ebbdb4",
   "metadata": {},
   "outputs": [],
   "source": []
  },
  {
   "cell_type": "code",
   "execution_count": 54,
   "id": "961b2e9d-5231-4812-bf6c-c29402464db5",
   "metadata": {},
   "outputs": [
    {
     "data": {
      "text/html": [
       "<div>\n",
       "<style scoped>\n",
       "    .dataframe tbody tr th:only-of-type {\n",
       "        vertical-align: middle;\n",
       "    }\n",
       "\n",
       "    .dataframe tbody tr th {\n",
       "        vertical-align: top;\n",
       "    }\n",
       "\n",
       "    .dataframe thead th {\n",
       "        text-align: right;\n",
       "    }\n",
       "</style>\n",
       "<table border=\"1\" class=\"dataframe\">\n",
       "  <thead>\n",
       "    <tr style=\"text-align: right;\">\n",
       "      <th></th>\n",
       "      <th>Gender</th>\n",
       "      <th>Store_type</th>\n",
       "      <th>prod_cat</th>\n",
       "      <th>prod_subcat</th>\n",
       "    </tr>\n",
       "  </thead>\n",
       "  <tbody>\n",
       "    <tr>\n",
       "      <th>0</th>\n",
       "      <td>M</td>\n",
       "      <td>TeleShop</td>\n",
       "      <td>Books</td>\n",
       "      <td>Fiction</td>\n",
       "    </tr>\n",
       "    <tr>\n",
       "      <th>1</th>\n",
       "      <td>M</td>\n",
       "      <td>e-Shop</td>\n",
       "      <td>Books</td>\n",
       "      <td>Fiction</td>\n",
       "    </tr>\n",
       "    <tr>\n",
       "      <th>2</th>\n",
       "      <td>F</td>\n",
       "      <td>Flagship store</td>\n",
       "      <td>Books</td>\n",
       "      <td>Fiction</td>\n",
       "    </tr>\n",
       "    <tr>\n",
       "      <th>3</th>\n",
       "      <td>F</td>\n",
       "      <td>e-Shop</td>\n",
       "      <td>Books</td>\n",
       "      <td>Fiction</td>\n",
       "    </tr>\n",
       "    <tr>\n",
       "      <th>4</th>\n",
       "      <td>F</td>\n",
       "      <td>e-Shop</td>\n",
       "      <td>Books</td>\n",
       "      <td>Fiction</td>\n",
       "    </tr>\n",
       "  </tbody>\n",
       "</table>\n",
       "</div>"
      ],
      "text/plain": [
       "  Gender      Store_type prod_cat prod_subcat\n",
       "0      M        TeleShop    Books     Fiction\n",
       "1      M          e-Shop    Books     Fiction\n",
       "2      F  Flagship store    Books     Fiction\n",
       "3      F          e-Shop    Books     Fiction\n",
       "4      F          e-Shop    Books     Fiction"
      ]
     },
     "execution_count": 54,
     "metadata": {},
     "output_type": "execute_result"
    }
   ],
   "source": [
    "catadata = retail.select_dtypes('object')\n",
    "catadata.head()"
   ]
  },
  {
   "cell_type": "code",
   "execution_count": 55,
   "id": "9a9963b0-678b-40e5-981b-c9888df61622",
   "metadata": {},
   "outputs": [
    {
     "data": {
      "text/plain": [
       "2"
      ]
     },
     "execution_count": 55,
     "metadata": {},
     "output_type": "execute_result"
    }
   ],
   "source": [
    "catadata.Gender.nunique()"
   ]
  },
  {
   "cell_type": "code",
   "execution_count": 56,
   "id": "7c7db12d-bf12-4c2b-b994-ecd079cc24a7",
   "metadata": {},
   "outputs": [
    {
     "data": {
      "text/plain": [
       "Gender\n",
       "M    11798\n",
       "F    11225\n",
       "Name: count, dtype: int64"
      ]
     },
     "execution_count": 56,
     "metadata": {},
     "output_type": "execute_result"
    }
   ],
   "source": [
    "catadata.Gender.value_counts()"
   ]
  },
  {
   "cell_type": "code",
   "execution_count": 57,
   "id": "a936d476-5575-46c0-8b0d-7ce39dcdf1ce",
   "metadata": {},
   "outputs": [
    {
     "data": {
      "image/png": "[encoded data removed]",
      "text/plain": [
       "<Figure size 400x400 with 1 Axes>"
      ]
     },
     "metadata": {},
     "output_type": "display_data"
    }
   ],
   "source": [
    "plt.subplots(figsize=(4,4))\n",
    "catadata.Gender.value_counts().plot(kind = 'bar', color = ['#5d6d7e', '#5499c7'])\n",
    "plt.xlabel('Gender', fontsize=10)\n",
    "plt.ylabel('count', fontsize=10)\n",
    "plt.show()"
   ]
  },
  {
   "cell_type": "code",
   "execution_count": null,
   "id": "6f192961-a8d3-4395-8758-acabeddc4a7d",
   "metadata": {},
   "outputs": [],
   "source": []
  },
  {
   "cell_type": "code",
   "execution_count": null,
   "id": "0570b995-c016-4cee-815f-380af8d9df7c",
   "metadata": {},
   "outputs": [],
   "source": []
  },
  {
   "cell_type": "code",
   "execution_count": 58,
   "id": "cf3a487b-752d-43be-b518-af7a94bc96bc",
   "metadata": {},
   "outputs": [
    {
     "data": {
      "text/html": [
       "<div>\n",
       "<style scoped>\n",
       "    .dataframe tbody tr th:only-of-type {\n",
       "        vertical-align: middle;\n",
       "    }\n",
       "\n",
       "    .dataframe tbody tr th {\n",
       "        vertical-align: top;\n",
       "    }\n",
       "\n",
       "    .dataframe thead th {\n",
       "        text-align: right;\n",
       "    }\n",
       "</style>\n",
       "<table border=\"1\" class=\"dataframe\">\n",
       "  <thead>\n",
       "    <tr style=\"text-align: right;\">\n",
       "      <th></th>\n",
       "      <th>cust_id</th>\n",
       "      <th>DOB</th>\n",
       "      <th>Gender</th>\n",
       "      <th>city_code</th>\n",
       "      <th>transaction_id</th>\n",
       "      <th>tran_date</th>\n",
       "      <th>prod_sub_cat_code</th>\n",
       "      <th>prod_cat_code</th>\n",
       "      <th>Qty</th>\n",
       "      <th>Rate</th>\n",
       "      <th>Tax</th>\n",
       "      <th>total_amt</th>\n",
       "      <th>Store_type</th>\n",
       "      <th>prod_cat</th>\n",
       "      <th>prod_subcat</th>\n",
       "    </tr>\n",
       "  </thead>\n",
       "  <tbody>\n",
       "    <tr>\n",
       "      <th>23022</th>\n",
       "      <td>268097</td>\n",
       "      <td>1992-12-15</td>\n",
       "      <td>F</td>\n",
       "      <td>7.0</td>\n",
       "      <td>90114483354</td>\n",
       "      <td>2011-01-26</td>\n",
       "      <td>10</td>\n",
       "      <td>5</td>\n",
       "      <td>4</td>\n",
       "      <td>1408</td>\n",
       "      <td>591.360</td>\n",
       "      <td>6223.360</td>\n",
       "      <td>e-Shop</td>\n",
       "      <td>Books</td>\n",
       "      <td>Non-Fiction</td>\n",
       "    </tr>\n",
       "    <tr>\n",
       "      <th>7339</th>\n",
       "      <td>270030</td>\n",
       "      <td>1978-05-21</td>\n",
       "      <td>M</td>\n",
       "      <td>8.0</td>\n",
       "      <td>35646064376</td>\n",
       "      <td>2013-06-30</td>\n",
       "      <td>4</td>\n",
       "      <td>4</td>\n",
       "      <td>3</td>\n",
       "      <td>475</td>\n",
       "      <td>149.625</td>\n",
       "      <td>1574.625</td>\n",
       "      <td>e-Shop</td>\n",
       "      <td>Bags</td>\n",
       "      <td>Women</td>\n",
       "    </tr>\n",
       "    <tr>\n",
       "      <th>15743</th>\n",
       "      <td>268119</td>\n",
       "      <td>1988-02-13</td>\n",
       "      <td>F</td>\n",
       "      <td>7.0</td>\n",
       "      <td>84706783852</td>\n",
       "      <td>2013-07-07</td>\n",
       "      <td>2</td>\n",
       "      <td>6</td>\n",
       "      <td>3</td>\n",
       "      <td>1394</td>\n",
       "      <td>439.110</td>\n",
       "      <td>4621.110</td>\n",
       "      <td>e-Shop</td>\n",
       "      <td>Home and kitchen</td>\n",
       "      <td>Furnishing</td>\n",
       "    </tr>\n",
       "    <tr>\n",
       "      <th>7265</th>\n",
       "      <td>268933</td>\n",
       "      <td>1976-10-10</td>\n",
       "      <td>F</td>\n",
       "      <td>10.0</td>\n",
       "      <td>22383709630</td>\n",
       "      <td>2013-07-15</td>\n",
       "      <td>4</td>\n",
       "      <td>4</td>\n",
       "      <td>4</td>\n",
       "      <td>1305</td>\n",
       "      <td>548.100</td>\n",
       "      <td>5768.100</td>\n",
       "      <td>e-Shop</td>\n",
       "      <td>Bags</td>\n",
       "      <td>Women</td>\n",
       "    </tr>\n",
       "    <tr>\n",
       "      <th>15739</th>\n",
       "      <td>271606</td>\n",
       "      <td>1987-02-12</td>\n",
       "      <td>M</td>\n",
       "      <td>3.0</td>\n",
       "      <td>37016171927</td>\n",
       "      <td>2012-08-22</td>\n",
       "      <td>2</td>\n",
       "      <td>6</td>\n",
       "      <td>3</td>\n",
       "      <td>1062</td>\n",
       "      <td>334.530</td>\n",
       "      <td>3520.530</td>\n",
       "      <td>e-Shop</td>\n",
       "      <td>Home and kitchen</td>\n",
       "      <td>Furnishing</td>\n",
       "    </tr>\n",
       "  </tbody>\n",
       "</table>\n",
       "</div>"
      ],
      "text/plain": [
       "       cust_id        DOB Gender  city_code  transaction_id  tran_date  \\\n",
       "23022   268097 1992-12-15      F        7.0     90114483354 2011-01-26   \n",
       "7339    270030 1978-05-21      M        8.0     35646064376 2013-06-30   \n",
       "15743   268119 1988-02-13      F        7.0     84706783852 2013-07-07   \n",
       "7265    268933 1976-10-10      F       10.0     22383709630 2013-07-15   \n",
       "15739   271606 1987-02-12      M        3.0     37016171927 2012-08-22   \n",
       "\n",
       "       prod_sub_cat_code  prod_cat_code  Qty  Rate      Tax  total_amt  \\\n",
       "23022                 10              5    4  1408  591.360   6223.360   \n",
       "7339                   4              4    3   475  149.625   1574.625   \n",
       "15743                  2              6    3  1394  439.110   4621.110   \n",
       "7265                   4              4    4  1305  548.100   5768.100   \n",
       "15739                  2              6    3  1062  334.530   3520.530   \n",
       "\n",
       "      Store_type          prod_cat  prod_subcat  \n",
       "23022     e-Shop             Books  Non-Fiction  \n",
       "7339      e-Shop              Bags        Women  \n",
       "15743     e-Shop  Home and kitchen   Furnishing  \n",
       "7265      e-Shop              Bags        Women  \n",
       "15739     e-Shop  Home and kitchen   Furnishing  "
      ]
     },
     "execution_count": 58,
     "metadata": {},
     "output_type": "execute_result"
    }
   ],
   "source": [
    "retail.sort_values(by='Store_type', ascending=False).head()"
   ]
  },
  {
   "cell_type": "code",
   "execution_count": 59,
   "id": "33f40df3-02c4-4982-8453-ccb0eaa173fe",
   "metadata": {},
   "outputs": [
    {
     "data": {
      "text/plain": [
       "count    23023.000000\n",
       "mean       637.116840\n",
       "std        621.870539\n",
       "min      -1499.000000\n",
       "25%        312.000000\n",
       "50%        710.000000\n",
       "75%       1110.000000\n",
       "max       1500.000000\n",
       "Name: Rate, dtype: float64"
      ]
     },
     "execution_count": 59,
     "metadata": {},
     "output_type": "execute_result"
    }
   ],
   "source": [
    "retail.Rate.describe()"
   ]
  },
  {
   "cell_type": "code",
   "execution_count": 60,
   "id": "0f9beee4-d191-4963-b03e-bdd7e45bf557",
   "metadata": {},
   "outputs": [
    {
     "data": {
      "image/png": "[encoded data removed]",
      "text/plain": [
       "<Figure size 400x400 with 1 Axes>"
      ]
     },
     "metadata": {},
     "output_type": "display_data"
    }
   ],
   "source": [
    "plt.subplots(figsize=(4,4))\n",
    "sns.boxplot(retail.Rate)\n",
    "plt.show()"
   ]
  },
  {
   "cell_type": "code",
   "execution_count": null,
   "id": "cc178c3c-b73a-494f-aefc-d8802b31aa05",
   "metadata": {},
   "outputs": [],
   "source": []
  },
  {
   "cell_type": "code",
   "execution_count": null,
   "id": "d5f27200-b2ae-48ae-95ee-d6e5aeb1f4db",
   "metadata": {},
   "outputs": [],
   "source": []
  },
  {
   "cell_type": "code",
   "execution_count": 61,
   "id": "ccca1b08-8d81-45e0-b53c-e57c8eabc499",
   "metadata": {},
   "outputs": [],
   "source": [
    "group_city_codes = retail.groupby('city_code')['transaction_id'].count().sort_values()"
   ]
  },
  {
   "cell_type": "code",
   "execution_count": 62,
   "id": "99fba260-edd7-4da1-b9f8-aa45fcdc665d",
   "metadata": {},
   "outputs": [
    {
     "data": {
      "image/png": "[encoded data removed]",
      "text/plain": [
       "<Figure size 600x600 with 1 Axes>"
      ]
     },
     "metadata": {},
     "output_type": "display_data"
    }
   ],
   "source": [
    "plt.subplots(figsize=(6,6))\n",
    "group_city_codes.plot(kind='barh', fontsize=10, color= '#7fb3d5')\n",
    "plt.xlabel('Number of Transactions', fontsize=10)\n",
    "plt.ylabel('City_code', fontsize=10)\n",
    "plt.title('Number of Transactions for each City_code', fontsize=10)\n",
    "plt.show()"
   ]
  },
  {
   "cell_type": "code",
   "execution_count": null,
   "id": "1162da8a-b2e3-4d52-a330-f2f8a0234de5",
   "metadata": {},
   "outputs": [],
   "source": []
  },
  {
   "cell_type": "code",
   "execution_count": null,
   "id": "6f467f4f-be4a-4ec9-8cae-74408cc6e7e4",
   "metadata": {},
   "outputs": [],
   "source": []
  },
  {
   "cell_type": "code",
   "execution_count": 63,
   "id": "f2780342-1a12-4891-b8a8-c1382ffa1c45",
   "metadata": {},
   "outputs": [],
   "source": [
    "group_store_qty = retail.groupby('Store_type')['Qty'].count().sort_values()"
   ]
  },
  {
   "cell_type": "code",
   "execution_count": 64,
   "id": "664f3575-9a43-4115-8978-a6a3ceca71b1",
   "metadata": {},
   "outputs": [
    {
     "data": {
      "image/png": "[encoded data removed]",
      "text/plain": [
       "<Figure size 500x500 with 1 Axes>"
      ]
     },
     "metadata": {},
     "output_type": "display_data"
    }
   ],
   "source": [
    "plt.subplots(figsize=(5,5))\n",
    "group_store_qty.plot(kind='barh', fontsize=10, color ='#7dcea0' )\n",
    "plt.xlabel('Store_Type', fontsize=10)\n",
    "plt.ylabel('Qty', fontsize=10)\n",
    "plt.title('Qty dispersed from each store type', fontsize=10)\n",
    "plt.show()"
   ]
  },
  {
   "cell_type": "code",
   "execution_count": null,
   "id": "cc280234-c2cf-4f58-9ac7-45837fb20dea",
   "metadata": {},
   "outputs": [],
   "source": []
  },
  {
   "cell_type": "code",
   "execution_count": null,
   "id": "25b235a6-1e40-48fd-bf05-d89470aa6ee4",
   "metadata": {},
   "outputs": [],
   "source": []
  }
 ],
 "metadata": {
  "kernelspec": {
   "display_name": "Python 3 (ipykernel)",
   "language": "python",
   "name": "python3"
  },
  "language_info": {
   "codemirror_mode": {
    "name": "ipython",
    "version": 3
   },
   "file_extension": ".py",
   "mimetype": "text/x-python",
   "name": "python",
   "nbconvert_exporter": "python",
   "pygments_lexer": "ipython3",
   "version": "3.11.7"
  }
 },
 "nbformat": 4,
 "nbformat_minor": 5
}
